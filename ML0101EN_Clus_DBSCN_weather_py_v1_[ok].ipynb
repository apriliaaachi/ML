{
  "nbformat": 4,
  "nbformat_minor": 0,
  "metadata": {
    "colab": {
      "name": "ML0101EN-Clus-DBSCN-weather-py-v1 [ok].ipynb",
      "version": "0.3.2",
      "provenance": [],
      "collapsed_sections": [],
      "toc_visible": true
    },
    "kernelspec": {
      "display_name": "Python 3",
      "language": "python",
      "name": "python3"
    }
  },
  "cells": [
    {
      "cell_type": "markdown",
      "metadata": {
        "id": "WHZQdXGE4JC2",
        "colab_type": "text"
      },
      "source": [
        "<img src = \"https://imgur.com/s4wTnl7.jpg\"  align = \"center\">\n",
        "\n",
        "# <center>Density-Based Clustering</center>"
      ]
    },
    {
      "cell_type": "markdown",
      "metadata": {
        "id": "Z1odlag34JC5",
        "colab_type": "text"
      },
      "source": [
        "Most of the traditional clustering techniques, such as k-means, hierarchical and fuzzy clustering, can be used to group data without supervision. \n",
        "\n",
        "However, when applied to tasks with arbitrary shape clusters, or clusters within cluster, the traditional techniques might be unable to achieve good results. That is, elements in the same cluster might not share enough similarity or the performance may be poor.\n",
        "Additionally, Density-based Clustering locates regions of high density that are separated from one another by regions of low density. Density, in this context, is defined as the number of points within a specified radius.\n",
        "\n",
        "\n",
        "\n",
        "In this section, the main focus will be manipulating the data and properties of DBSCAN and observing the resulting clustering."
      ]
    },
    {
      "cell_type": "markdown",
      "metadata": {
        "id": "ewzps49u4JC8",
        "colab_type": "text"
      },
      "source": [
        "Import the following libraries:\n",
        "<ul>\n",
        "    <li> <b>numpy as np</b> </li>\n",
        "    <li> <b>DBSCAN</b> from <b>sklearn.cluster</b> </li>\n",
        "    <li> <b>make_blobs</b> from <b>sklearn.datasets.samples_generator</b> </li>\n",
        "    <li> <b>StandardScaler</b> from <b>sklearn.preprocessing</b> </li>\n",
        "    <li> <b>matplotlib.pyplot as plt</b> </li>\n",
        "</ul> <br>\n",
        "Remember <b> %matplotlib inline </b> to display plots"
      ]
    },
    {
      "cell_type": "code",
      "metadata": {
        "id": "0h7NX2GQ4JC-",
        "colab_type": "code",
        "colab": {}
      },
      "source": [
        "# Notice: For visualization of map, you need basemap package.\n",
        "# if you dont have basemap install on your machine, you can use the following line to install it\n",
        "# Notice: you might have to refresh your page and re-run the notebook after installation\n",
        "!apt install python3-mpltoolkits.basemap\n",
        "#you must install matplotlib 2.2.2 to work with basemap\n",
        "!pip install matplotlib==2.2.2"
      ],
      "execution_count": 0,
      "outputs": []
    },
    {
      "cell_type": "code",
      "metadata": {
        "id": "ZpTtNUh54JDF",
        "colab_type": "code",
        "colab": {}
      },
      "source": [
        "import numpy as np \n",
        "from sklearn.cluster import DBSCAN \n",
        "from sklearn.datasets.samples_generator import make_blobs \n",
        "from sklearn.preprocessing import StandardScaler \n",
        "import matplotlib.pyplot as plt \n",
        "%matplotlib inline"
      ],
      "execution_count": 0,
      "outputs": []
    },
    {
      "cell_type": "markdown",
      "metadata": {
        "id": "YkIfrFCj4JDH",
        "colab_type": "text"
      },
      "source": [
        "### Data generation\n",
        "The function below will generate the data points and requires these inputs:\n",
        "<ul>\n",
        "    <li> <b>centroidLocation</b>: Coordinates of the centroids that will generate the random data. </li>\n",
        "    <ul> <li> Example: input: [[4,3], [2,-1], [-1,4]] </li> </ul>\n",
        "    <li> <b>numSamples</b>: The number of data points we want generated, split over the number of centroids (# of centroids defined in centroidLocation) </li>\n",
        "    <ul> <li> Example: 1500 </li> </ul>\n",
        "    <li> <b>clusterDeviation</b>: The standard deviation between the clusters. The larger the number, the further the spacing. </li>\n",
        "    <ul> <li> Example: 0.5 </li> </ul>\n",
        "</ul>"
      ]
    },
    {
      "cell_type": "code",
      "metadata": {
        "id": "eh8IRxdP4JDJ",
        "colab_type": "code",
        "colab": {}
      },
      "source": [
        "def createDataPoints(centroidLocation, numSamples, clusterDeviation):\n",
        "    # Create random data and store in feature matrix X and response vector y.\n",
        "    X, y = make_blobs(n_samples=numSamples, centers=centroidLocation, \n",
        "                                cluster_std=clusterDeviation)\n",
        "    \n",
        "    # Standardize features by removing the mean and scaling to unit variance\n",
        "    X = StandardScaler().fit_transform(X)\n",
        "    return X, y"
      ],
      "execution_count": 0,
      "outputs": []
    },
    {
      "cell_type": "markdown",
      "metadata": {
        "id": "zY1-FoD24JDM",
        "colab_type": "text"
      },
      "source": [
        "Use <b>createDataPoints</b> with the <b>3 inputs</b> and store the output into variables <b>X</b> and <b>y</b>."
      ]
    },
    {
      "cell_type": "code",
      "metadata": {
        "id": "eGPlVUZu4JDN",
        "colab_type": "code",
        "colab": {}
      },
      "source": [
        "X, y = createDataPoints([[4,3], [2,-1], [-1,4]] , 1500, 0.5)"
      ],
      "execution_count": 0,
      "outputs": []
    },
    {
      "cell_type": "markdown",
      "metadata": {
        "id": "gqEfIQz44JDQ",
        "colab_type": "text"
      },
      "source": [
        "### Modeling\n",
        "DBSCAN stands for Density-Based Spatial Clustering of Applications with Noise. This technique is one of the most common clustering algorithms  which works based on density of object.\n",
        "The whole idea is that if a particular point belongs to a cluster, it should be near to lots of other points in that cluster.\n",
        "\n",
        "It works based on two parameters: Epsilon and Minimum Points  \n",
        "__Epsilon__ determine a specified radius that if includes enough number of points within, we call it dense area  \n",
        "__minimumSamples__ determine the minimum number of data points we want in a neighborhood to define a cluster.\n",
        "\n"
      ]
    },
    {
      "cell_type": "code",
      "metadata": {
        "id": "ZHdz88UH4JDR",
        "colab_type": "code",
        "colab": {}
      },
      "source": [
        "epsilon = 0.3\n",
        "minimumSamples = 7\n",
        "db = DBSCAN(eps=epsilon, min_samples=minimumSamples).fit(X)\n",
        "labels = db.labels_\n",
        "labels"
      ],
      "execution_count": 0,
      "outputs": []
    },
    {
      "cell_type": "markdown",
      "metadata": {
        "id": "1aVg6lPh4JDU",
        "colab_type": "text"
      },
      "source": [
        "### Distinguish outliers\n",
        "Lets Replace all elements with 'True' in core_samples_mask that are in the cluster, 'False' if the points are outliers."
      ]
    },
    {
      "cell_type": "code",
      "metadata": {
        "id": "GS6zKA0w4JDU",
        "colab_type": "code",
        "colab": {}
      },
      "source": [
        "# Firts, create an array of booleans using the labels from db.\n",
        "core_samples_mask = np.zeros_like(db.labels_, dtype=bool)\n",
        "core_samples_mask[db.core_sample_indices_] = True\n",
        "core_samples_mask"
      ],
      "execution_count": 0,
      "outputs": []
    },
    {
      "cell_type": "code",
      "metadata": {
        "id": "0FkzFgwH4JDX",
        "colab_type": "code",
        "colab": {}
      },
      "source": [
        "# Number of clusters in labels, ignoring noise if present.\n",
        "n_clusters_ = len(set(labels)) - (1 if -1 in labels else 0)\n",
        "n_clusters_"
      ],
      "execution_count": 0,
      "outputs": []
    },
    {
      "cell_type": "code",
      "metadata": {
        "id": "8rAWleUH4JDa",
        "colab_type": "code",
        "colab": {}
      },
      "source": [
        "# Remove repetition in labels by turning it into a set.\n",
        "unique_labels = set(labels)\n",
        "unique_labels"
      ],
      "execution_count": 0,
      "outputs": []
    },
    {
      "cell_type": "markdown",
      "metadata": {
        "id": "dhAc8vZ44JDd",
        "colab_type": "text"
      },
      "source": [
        "### Data visualization"
      ]
    },
    {
      "cell_type": "code",
      "metadata": {
        "id": "t18IWG_x4JDe",
        "colab_type": "code",
        "colab": {}
      },
      "source": [
        "# Create colors for the clusters.\n",
        "colors = plt.cm.Spectral(np.linspace(0, 1, len(unique_labels)))\n",
        "colors"
      ],
      "execution_count": 0,
      "outputs": []
    },
    {
      "cell_type": "code",
      "metadata": {
        "scrolled": true,
        "id": "9bUlpfW84JDi",
        "colab_type": "code",
        "colab": {}
      },
      "source": [
        "# Plot the points with colors\n",
        "for k, col in zip(unique_labels, colors):\n",
        "    if k == -1:\n",
        "        # Black used for noise.\n",
        "        col = 'k'\n",
        "\n",
        "    class_member_mask = (labels == k)\n",
        "\n",
        "    # Plot the datapoints that are clustered\n",
        "    xy = X[class_member_mask & core_samples_mask]\n",
        "    plt.scatter(xy[:, 0], xy[:, 1],s=50, c=col, marker=u'o', alpha=0.5)\n",
        "\n",
        "    # Plot the outliers\n",
        "    xy = X[class_member_mask & ~core_samples_mask]\n",
        "    plt.scatter(xy[:, 0], xy[:, 1],s=50, c=col, marker=u'o', alpha=0.5)"
      ],
      "execution_count": 0,
      "outputs": []
    },
    {
      "cell_type": "markdown",
      "metadata": {
        "id": "hxNC_WYh4JDn",
        "colab_type": "text"
      },
      "source": [
        "## Practice\n",
        "To better underestand differences between partitional and density-based clusteitng, try to cluster the above dataset into 3 clusters using k-Means.  \n",
        "Notice: do not generate data again, use the same dataset as above."
      ]
    },
    {
      "cell_type": "code",
      "metadata": {
        "id": "5Un4y_N04JDo",
        "colab_type": "code",
        "colab": {}
      },
      "source": [
        "# write your code here\n",
        "\n",
        "\n"
      ],
      "execution_count": 0,
      "outputs": []
    },
    {
      "cell_type": "markdown",
      "metadata": {
        "id": "_w4J6sw74JDs",
        "colab_type": "text"
      },
      "source": [
        "Double-click __here__ for the solution.\n",
        "\n",
        "<!-- Your answer is below:\n",
        "\n",
        "\n",
        "from sklearn.cluster import KMeans \n",
        "k = 3\n",
        "k_means3 = KMeans(init = \"k-means++\", n_clusters = k, n_init = 12)\n",
        "k_means3.fit(X)\n",
        "fig = plt.figure(figsize=(6, 4))\n",
        "ax = fig.add_subplot(1, 1, 1)\n",
        "for k, col in zip(range(k), colors):\n",
        "    my_members = (k_means3.labels_ == k)\n",
        "    plt.scatter(X[my_members, 0], X[my_members, 1],  c=col, marker=u'o', alpha=0.5)\n",
        "plt.show()\n",
        "\n",
        "\n",
        "-->"
      ]
    },
    {
      "cell_type": "markdown",
      "metadata": {
        "id": "wUgKkAZr4JDt",
        "colab_type": "text"
      },
      "source": [
        "\n",
        "\n",
        "\n",
        "<h1 align=center> Weather Station Clustering using DBSCAN & scikit-learn </h1>\n",
        "<hr>\n",
        "\n",
        "DBSCAN is specially very good for tasks like class identification on a spatial context. The wonderful attribute of DBSCAN algorithm is that it can find out any arbitrary shape cluster without getting affected by noise. For example, this following example cluster the location of weather stations in Canada.\n",
        "<Click 1>\n",
        "DBSCAN can be used here, for instance, to find the group of stations which show the same weather condition. As you can see, it not only finds different arbitrary shaped clusters, can find the denser part of data-centered samples by ignoring less-dense areas or noises.\n",
        "\n",
        "let's start playing with the data. We will be working according to the following workflow: </font>\n",
        "1. Loading data\n",
        "- Overview data\n",
        "- Data cleaning\n",
        "- Data selection\n",
        "- Clusteing"
      ]
    },
    {
      "cell_type": "markdown",
      "metadata": {
        "id": "3zkiIhKJ4JDu",
        "colab_type": "text"
      },
      "source": [
        "### About the dataset\n",
        "\n",
        "\t\t\n",
        "<h4 align = \"center\">\n",
        "Environment Canada    \n",
        "Monthly Values for July - 2015\t\n",
        "</h4>\n",
        "<html>\n",
        "<head>\n",
        "<style>\n",
        "table {\n",
        "    font-family: arial, sans-serif;\n",
        "    border-collapse: collapse;\n",
        "    width: 100%;\n",
        "}\n",
        "\n",
        "td, th {\n",
        "    border: 1px solid #dddddd;\n",
        "    text-align: left;\n",
        "    padding: 8px;\n",
        "}\n",
        "\n",
        "tr:nth-child(even) {\n",
        "    background-color: #dddddd;\n",
        "}\n",
        "</style>\n",
        "</head>\n",
        "<body>\n",
        "\n",
        "<table>\n",
        "  <tr>\n",
        "    <th>Name in the table</th>\n",
        "    <th>Meaning</th>\n",
        "  </tr>\n",
        "  <tr>\n",
        "    <td><font color = \"green\"><strong>Stn_Name</font></td>\n",
        "    <td><font color = \"green\"><strong>Station Name</font</td>\n",
        "  </tr>\n",
        "  <tr>\n",
        "    <td><font color = \"green\"><strong>Lat</font></td>\n",
        "    <td><font color = \"green\"><strong>Latitude (North+, degrees)</font></td>\n",
        "  </tr>\n",
        "  <tr>\n",
        "    <td><font color = \"green\"><strong>Long</font></td>\n",
        "    <td><font color = \"green\"><strong>Longitude (West - , degrees)</font></td>\n",
        "  </tr>\n",
        "  <tr>\n",
        "    <td>Prov</td>\n",
        "    <td>Province</td>\n",
        "  </tr>\n",
        "  <tr>\n",
        "    <td>Tm</td>\n",
        "    <td>Mean Temperature (°C)</td>\n",
        "  </tr>\n",
        "  <tr>\n",
        "    <td>DwTm</td>\n",
        "    <td>Days without Valid Mean Temperature</td>\n",
        "  </tr>\n",
        "  <tr>\n",
        "    <td>D</td>\n",
        "    <td>Mean Temperature difference from Normal (1981-2010) (°C)</td>\n",
        "  </tr>\n",
        "  <tr>\n",
        "    <td><font color = \"black\">Tx</font></td>\n",
        "    <td><font color = \"black\">Highest Monthly Maximum Temperature (°C)</font></td>\n",
        "  </tr>\n",
        "  <tr>\n",
        "    <td>DwTx</td>\n",
        "    <td>Days without Valid Maximum Temperature</td>\n",
        "  </tr>\n",
        "  <tr>\n",
        "    <td><font color = \"black\">Tn</font></td>\n",
        "    <td><font color = \"black\">Lowest Monthly Minimum Temperature (°C)</font></td>\n",
        "  </tr>\n",
        "  <tr>\n",
        "    <td>DwTn</td>\n",
        "    <td>Days without Valid Minimum Temperature</td>\n",
        "  </tr>\n",
        "  <tr>\n",
        "    <td>S</td>\n",
        "    <td>Snowfall (cm)</td>\n",
        "  </tr>\n",
        "  <tr>\n",
        "    <td>DwS</td>\n",
        "    <td>Days without Valid Snowfall</td>\n",
        "  </tr>\n",
        "  <tr>\n",
        "    <td>S%N</td>\n",
        "    <td>Percent of Normal (1981-2010) Snowfall</td>\n",
        "  </tr>\n",
        "  <tr>\n",
        "    <td><font color = \"green\"><strong>P</font></td>\n",
        "    <td><font color = \"green\"><strong>Total Precipitation (mm)</font></td>\n",
        "  </tr>\n",
        "  <tr>\n",
        "    <td>DwP</td>\n",
        "    <td>Days without Valid Precipitation</td>\n",
        "  </tr>\n",
        "  <tr>\n",
        "    <td>P%N</td>\n",
        "    <td>Percent of Normal (1981-2010) Precipitation</td>\n",
        "  </tr>\n",
        "  <tr>\n",
        "    <td>S_G</td>\n",
        "    <td>Snow on the ground at the end of the month (cm)</td>\n",
        "  </tr>\n",
        "  <tr>\n",
        "    <td>Pd</td>\n",
        "    <td>Number of days with Precipitation 1.0 mm or more</td>\n",
        "  </tr>\n",
        "  <tr>\n",
        "    <td>BS</td>\n",
        "    <td>Bright Sunshine (hours)</td>\n",
        "  </tr>\n",
        "  <tr>\n",
        "    <td>DwBS</td>\n",
        "    <td>Days without Valid Bright Sunshine</td>\n",
        "  </tr>\n",
        "  <tr>\n",
        "    <td>BS%</td>\n",
        "    <td>Percent of Normal (1981-2010) Bright Sunshine</td>\n",
        "  </tr>\n",
        "  <tr>\n",
        "    <td>HDD</td>\n",
        "    <td>Degree Days below 18 °C</td>\n",
        "  </tr>\n",
        "  <tr>\n",
        "    <td>CDD</td>\n",
        "    <td>Degree Days above 18 °C</td>\n",
        "  </tr>\n",
        "  <tr>\n",
        "    <td>Stn_No</td>\n",
        "    <td>Climate station identifier (first 3 digits indicate   drainage basin, last 4 characters are for sorting alphabetically).</td>\n",
        "  </tr>\n",
        "  <tr>\n",
        "    <td>NA</td>\n",
        "    <td>Not Available</td>\n",
        "  </tr>\n",
        "\n",
        "\n",
        "</table>\n",
        "\n",
        "</body>\n",
        "</html>\n",
        "\n",
        " "
      ]
    },
    {
      "cell_type": "markdown",
      "metadata": {
        "id": "Evx3_TpG4JDu",
        "colab_type": "text"
      },
      "source": [
        "### 1-Download data\n",
        "To download the data, we will use **`!wget`**. To download the data, we will use `!wget` to download it from IBM Object Storage.  \n",
        "__Did you know?__ When it comes to Machine Learning, you will likely be working with large datasets. As a business, where can you host your data? IBM is offering a unique opportunity for businesses, with 10 Tb of IBM Cloud Object Storage: [Sign up now for free](http://cocl.us/ML0101EN-IBM-Offer-CC)"
      ]
    },
    {
      "cell_type": "code",
      "metadata": {
        "id": "EOWeo8874JDw",
        "colab_type": "code",
        "colab": {}
      },
      "source": [
        "!wget -O weather-stations20140101-20141231.csv https://s3-api.us-geo.objectstorage.softlayer.net/cf-courses-data/CognitiveClass/ML0101ENv3/labs/weather-stations20140101-20141231.csv"
      ],
      "execution_count": 0,
      "outputs": []
    },
    {
      "cell_type": "markdown",
      "metadata": {
        "id": "TQXab7tH4JDz",
        "colab_type": "text"
      },
      "source": [
        "### 2- Load the dataset\n",
        "We will import the .csv then we creates the columns for year, month and day."
      ]
    },
    {
      "cell_type": "code",
      "metadata": {
        "id": "6yC5tmjj4JD0",
        "colab_type": "code",
        "colab": {}
      },
      "source": [
        "import csv\n",
        "import pandas as pd\n",
        "import numpy as np\n",
        "\n",
        "filename='weather-stations20140101-20141231.csv'\n",
        "\n",
        "#Read csv\n",
        "pdf = pd.read_csv(filename)\n",
        "pdf.head(5)"
      ],
      "execution_count": 0,
      "outputs": []
    },
    {
      "cell_type": "markdown",
      "metadata": {
        "id": "_n5UlGv94JD4",
        "colab_type": "text"
      },
      "source": [
        "### 3-Cleaning\n",
        "Lets remove rows that dont have any value in the __Tm__ field."
      ]
    },
    {
      "cell_type": "code",
      "metadata": {
        "id": "GhKsVN3L4JD5",
        "colab_type": "code",
        "colab": {}
      },
      "source": [
        "pdf = pdf[pd.notnull(pdf[\"Tm\"])]\n",
        "pdf = pdf.reset_index(drop=True)\n",
        "pdf.head(5)"
      ],
      "execution_count": 0,
      "outputs": []
    },
    {
      "cell_type": "markdown",
      "metadata": {
        "id": "cnfWeFEe4JD9",
        "colab_type": "text"
      },
      "source": [
        "### 4-Visualization\n",
        "Visualization of stations on map using basemap package. The matplotlib basemap toolkit is a library for plotting 2D data on maps in Python. Basemap does not do any plotting on it’s own, but provides the facilities to transform coordinates to a map projections. \n",
        "\n",
        "Please notice that the size of each data points represents the average of maximum temperature for each station in a year. "
      ]
    },
    {
      "cell_type": "code",
      "metadata": {
        "id": "StgNotvjzje4",
        "colab_type": "code",
        "colab": {}
      },
      "source": [
        "!apt-get install libgeos-3.5.0\n",
        "!apt-get install libgeos-dev\n",
        "!pip install https://github.com/matplotlib/basemap/archive/master.zip\n",
        "!pip install pyproj==1.9.6"
      ],
      "execution_count": 0,
      "outputs": []
    },
    {
      "cell_type": "code",
      "metadata": {
        "id": "5voyoICu4JD_",
        "colab_type": "code",
        "colab": {}
      },
      "source": [
        "from mpl_toolkits.basemap import Basemap\n",
        "import matplotlib.pyplot as plt\n",
        "from pylab import rcParams\n",
        "%matplotlib inline\n",
        "rcParams['figure.figsize'] = (14,10)\n",
        "\n",
        "llon=-140\n",
        "ulon=-50\n",
        "llat=40\n",
        "ulat=65\n",
        "\n",
        "pdf = pdf[(pdf['Long'] > llon) & (pdf['Long'] < ulon) & (pdf['Lat'] > llat) &(pdf['Lat'] < ulat)]\n",
        "\n",
        "my_map = Basemap(projection='merc',\n",
        "            resolution = 'l', area_thresh = 1000.0,\n",
        "            llcrnrlon=llon, llcrnrlat=llat, #min longitude (llcrnrlon) and latitude (llcrnrlat)\n",
        "            urcrnrlon=ulon, urcrnrlat=ulat) #max longitude (urcrnrlon) and latitude (urcrnrlat)\n",
        "\n",
        "my_map.drawcoastlines()\n",
        "my_map.drawcountries()\n",
        "# my_map.drawmapboundary()\n",
        "my_map.fillcontinents(color = 'white', alpha = 0.3)\n",
        "my_map.shadedrelief()\n",
        "\n",
        "# To collect data based on stations        \n",
        "\n",
        "xs,ys = my_map(np.asarray(pdf.Long), np.asarray(pdf.Lat))\n",
        "pdf['xm']= xs.tolist()\n",
        "pdf['ym'] =ys.tolist()\n",
        "\n",
        "#Visualization1\n",
        "for index,row in pdf.iterrows():\n",
        "#   x,y = my_map(row.Long, row.Lat)\n",
        "   my_map.plot(row.xm, row.ym,markerfacecolor =([1,0,0]),  marker='o', markersize= 5, alpha = 0.75)\n",
        "#plt.text(x,y,stn)\n",
        "plt.show()\n",
        "\n"
      ],
      "execution_count": 0,
      "outputs": []
    },
    {
      "cell_type": "markdown",
      "metadata": {
        "id": "PQadGVJ34JEB",
        "colab_type": "text"
      },
      "source": [
        "### 5- Clustering of stations based on their location i.e. Lat & Lon\n",
        "\n",
        "__DBSCAN__ form sklearn library can runs DBSCAN clustering from vector array or distance matrix. In our case, we pass it the Numpy array Clus_dataSet to find core samples of high density and expands clusters from them. "
      ]
    },
    {
      "cell_type": "code",
      "metadata": {
        "id": "aRmL-Nio4JED",
        "colab_type": "code",
        "colab": {}
      },
      "source": [
        "from sklearn.cluster import DBSCAN\n",
        "import sklearn.utils\n",
        "from sklearn.preprocessing import StandardScaler\n",
        "sklearn.utils.check_random_state(1000)\n",
        "Clus_dataSet = pdf[['xm','ym']]\n",
        "Clus_dataSet = np.nan_to_num(Clus_dataSet)\n",
        "Clus_dataSet = StandardScaler().fit_transform(Clus_dataSet)\n",
        "\n",
        "# Compute DBSCAN\n",
        "db = DBSCAN(eps=0.15, min_samples=10).fit(Clus_dataSet)\n",
        "core_samples_mask = np.zeros_like(db.labels_, dtype=bool)\n",
        "core_samples_mask[db.core_sample_indices_] = True\n",
        "labels = db.labels_\n",
        "pdf[\"Clus_Db\"]=labels\n",
        "\n",
        "realClusterNum=len(set(labels)) - (1 if -1 in labels else 0)\n",
        "clusterNum = len(set(labels)) \n",
        "\n",
        "\n",
        "# A sample of clusters\n",
        "pdf[[\"Stn_Name\",\"Tx\",\"Tm\",\"Clus_Db\"]].head(5)"
      ],
      "execution_count": 0,
      "outputs": []
    },
    {
      "cell_type": "markdown",
      "metadata": {
        "id": "LYBikw8H4JEF",
        "colab_type": "text"
      },
      "source": [
        "As you can see for outliers, the cluster label is -1"
      ]
    },
    {
      "cell_type": "code",
      "metadata": {
        "id": "z9n9PUq74JEG",
        "colab_type": "code",
        "colab": {}
      },
      "source": [
        "set(labels)"
      ],
      "execution_count": 0,
      "outputs": []
    },
    {
      "cell_type": "markdown",
      "metadata": {
        "id": "2Q_53D864JEJ",
        "colab_type": "text"
      },
      "source": [
        "### 6- Visualization of clusters based on location\n",
        "Now, we can visualize the clusters using basemap:"
      ]
    },
    {
      "cell_type": "code",
      "metadata": {
        "id": "2ITBtQ3o4JEJ",
        "colab_type": "code",
        "colab": {}
      },
      "source": [
        "from mpl_toolkits.basemap import Basemap\n",
        "import matplotlib.pyplot as plt\n",
        "from pylab import rcParams\n",
        "%matplotlib inline\n",
        "rcParams['figure.figsize'] = (14,10)\n",
        "\n",
        "my_map = Basemap(projection='merc',\n",
        "            resolution = 'l', area_thresh = 1000.0,\n",
        "            llcrnrlon=llon, llcrnrlat=llat, #min longitude (llcrnrlon) and latitude (llcrnrlat)\n",
        "            urcrnrlon=ulon, urcrnrlat=ulat) #max longitude (urcrnrlon) and latitude (urcrnrlat)\n",
        "\n",
        "my_map.drawcoastlines()\n",
        "my_map.drawcountries()\n",
        "#my_map.drawmapboundary()\n",
        "my_map.fillcontinents(color = 'white', alpha = 0.3)\n",
        "my_map.shadedrelief()\n",
        "\n",
        "# To create a color map\n",
        "colors = plt.get_cmap('jet')(np.linspace(0.0, 1.0, clusterNum))\n",
        "\n",
        "\n",
        "\n",
        "#Visualization1\n",
        "for clust_number in set(labels):\n",
        "    c=(([0.4,0.4,0.4]) if clust_number == -1 else colors[np.int(clust_number)])\n",
        "    clust_set = pdf[pdf.Clus_Db == clust_number]                    \n",
        "    my_map.scatter(clust_set.xm, clust_set.ym, color =c,  marker='o', s= 20, alpha = 0.85)\n",
        "    if clust_number != -1:\n",
        "        cenx=np.mean(clust_set.xm) \n",
        "        ceny=np.mean(clust_set.ym) \n",
        "        plt.text(cenx,ceny,str(clust_number), fontsize=25, color='red',)\n",
        "        print (\"Cluster \"+str(clust_number)+', Avg Temp: '+ str(np.mean(clust_set.Tm)))"
      ],
      "execution_count": 0,
      "outputs": []
    },
    {
      "cell_type": "markdown",
      "metadata": {
        "id": "IHT0t7a44JEN",
        "colab_type": "text"
      },
      "source": [
        "### 7- Clustering of stations based on their location, mean, max, and min Temperature\n",
        "In this section we re-run DBSCAN, but this time on a 5-dimensional dataset:"
      ]
    },
    {
      "cell_type": "code",
      "metadata": {
        "scrolled": true,
        "id": "t_Q6GAwY4JEN",
        "colab_type": "code",
        "colab": {}
      },
      "source": [
        "from sklearn.cluster import DBSCAN\n",
        "import sklearn.utils\n",
        "from sklearn.preprocessing import StandardScaler\n",
        "sklearn.utils.check_random_state(1000)\n",
        "Clus_dataSet = pdf[['xm','ym','Tx','Tm','Tn']]\n",
        "Clus_dataSet = np.nan_to_num(Clus_dataSet)\n",
        "Clus_dataSet = StandardScaler().fit_transform(Clus_dataSet)\n",
        "\n",
        "# Compute DBSCAN\n",
        "db = DBSCAN(eps=0.3, min_samples=10).fit(Clus_dataSet)\n",
        "core_samples_mask = np.zeros_like(db.labels_, dtype=bool)\n",
        "core_samples_mask[db.core_sample_indices_] = True\n",
        "labels = db.labels_\n",
        "pdf[\"Clus_Db\"]=labels\n",
        "\n",
        "realClusterNum=len(set(labels)) - (1 if -1 in labels else 0)\n",
        "clusterNum = len(set(labels)) \n",
        "\n",
        "\n",
        "# A sample of clusters\n",
        "pdf[[\"Stn_Name\",\"Tx\",\"Tm\",\"Clus_Db\"]].head(5)"
      ],
      "execution_count": 0,
      "outputs": []
    },
    {
      "cell_type": "markdown",
      "metadata": {
        "id": "I-bwGiYT4JER",
        "colab_type": "text"
      },
      "source": [
        "### 8- Visualization of clusters based on location and Temperture\n"
      ]
    },
    {
      "cell_type": "code",
      "metadata": {
        "id": "qjSGCE1r4JET",
        "colab_type": "code",
        "colab": {}
      },
      "source": [
        "from mpl_toolkits.basemap import Basemap\n",
        "import matplotlib.pyplot as plt\n",
        "from pylab import rcParams\n",
        "%matplotlib inline\n",
        "rcParams['figure.figsize'] = (14,10)\n",
        "\n",
        "my_map = Basemap(projection='merc',\n",
        "            resolution = 'l', area_thresh = 1000.0,\n",
        "            llcrnrlon=llon, llcrnrlat=llat, #min longitude (llcrnrlon) and latitude (llcrnrlat)\n",
        "            urcrnrlon=ulon, urcrnrlat=ulat) #max longitude (urcrnrlon) and latitude (urcrnrlat)\n",
        "\n",
        "my_map.drawcoastlines()\n",
        "my_map.drawcountries()\n",
        "#my_map.drawmapboundary()\n",
        "my_map.fillcontinents(color = 'white', alpha = 0.3)\n",
        "my_map.shadedrelief()\n",
        "\n",
        "# To create a color map\n",
        "colors = plt.get_cmap('jet')(np.linspace(0.0, 1.0, clusterNum))\n",
        "\n",
        "\n",
        "\n",
        "#Visualization1\n",
        "for clust_number in set(labels):\n",
        "    c=(([0.4,0.4,0.4]) if clust_number == -1 else colors[np.int(clust_number)])\n",
        "    clust_set = pdf[pdf.Clus_Db == clust_number]                    \n",
        "    my_map.scatter(clust_set.xm, clust_set.ym, color =c,  marker='o', s= 20, alpha = 0.85)\n",
        "    if clust_number != -1:\n",
        "        cenx=np.mean(clust_set.xm) \n",
        "        ceny=np.mean(clust_set.ym) \n",
        "        plt.text(cenx,ceny,str(clust_number), fontsize=25, color='red',)\n",
        "        print (\"Cluster \"+str(clust_number)+', Avg Temp: '+ str(np.mean(clust_set.Tm)))"
      ],
      "execution_count": 0,
      "outputs": []
    },
    {
      "cell_type": "markdown",
      "metadata": {
        "id": "MNN5o8CV4JEX",
        "colab_type": "text"
      },
      "source": [
        "## Want to learn more?\n",
        "\n",
        "IBM SPSS Modeler is a comprehensive analytics platform that has many machine learning algorithms. It has been designed to bring predictive intelligence to decisions made by individuals, by groups, by systems – by your enterprise as a whole. A free trial is available through this course, available here: [SPSS Modeler](http://cocl.us/ML0101EN-SPSSModeler).\n",
        "\n",
        "Also, you can use Watson Studio to run these notebooks faster with bigger datasets. Watson Studio is IBM's leading cloud solution for data scientists, built by data scientists. With Jupyter notebooks, RStudio, Apache Spark and popular libraries pre-packaged in the cloud, Watson Studio enables data scientists to collaborate on their projects without having to install anything. Join the fast-growing community of Watson Studio users today with a free account at [Watson Studio](https://cocl.us/ML0101EN_DSX)\n",
        "\n",
        "### Thanks for completing this lesson!\n",
        "\n",
        "Notebook created by: <a href = \"https://ca.linkedin.com/in/saeedaghabozorgi\">Saeed Aghabozorgi</a>\n",
        "\n",
        "<hr>\n",
        "Copyright &copy; 2018 [Cognitive Class](https://cocl.us/DX0108EN_CC). This notebook and its source code are released under the terms of the [MIT License](https://bigdatauniversity.com/mit-license/).​"
      ]
    }
  ]
}