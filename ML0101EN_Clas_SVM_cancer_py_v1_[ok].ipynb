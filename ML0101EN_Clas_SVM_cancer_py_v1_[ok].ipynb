{
  "nbformat": 4,
  "nbformat_minor": 0,
  "metadata": {
    "colab": {
      "name": "ML0101EN-Clas-SVM-cancer-py-v1 [ok].ipynb",
      "version": "0.3.2",
      "provenance": [],
      "collapsed_sections": [],
      "toc_visible": true
    },
    "language_info": {
      "codemirror_mode": {
        "name": "ipython",
        "version": 3
      },
      "file_extension": ".py",
      "mimetype": "text/x-python",
      "name": "python",
      "nbconvert_exporter": "python",
      "pygments_lexer": "ipython3",
      "version": "3.7.3"
    },
    "kernelspec": {
      "display_name": "Python 3",
      "language": "python",
      "name": "python3"
    }
  },
  "cells": [
    {
      "cell_type": "markdown",
      "metadata": {
        "colab_type": "text",
        "id": "609HPb39vhWW"
      },
      "source": [
        "<img src = \"https://imgur.com/s4wTnl7.jpg\"  align = \"center\">\n",
        "\n",
        "<h1 align=center><font size = 5> SVM (Support Vector Machines)</font></h1>"
      ]
    },
    {
      "cell_type": "markdown",
      "metadata": {
        "colab_type": "text",
        "id": "GDoyhVgYvhWZ"
      },
      "source": [
        "In this notebook, you will use SVM (Support Vector Machines) to build and train a model using human cell records, and classify cells to whether the samples are benign or malignant.\n",
        "\n",
        "SVM works by mapping data to a high-dimensional feature space so that data points can be categorized, even when the data are not otherwise linearly separable. A separator between the categories is found, then the data are transformed in such a way that the separator could be drawn as a hyperplane. Following this, characteristics of new data can be used to predict the group to which a new record should belong."
      ]
    },
    {
      "cell_type": "code",
      "metadata": {
        "colab_type": "code",
        "id": "qQHK90A8vhWb",
        "colab": {}
      },
      "source": [
        "import pandas as pd\n",
        "import pylab as pl\n",
        "import numpy as np\n",
        "import scipy.optimize as opt\n",
        "from sklearn import preprocessing\n",
        "from sklearn.model_selection import train_test_split\n",
        "%matplotlib inline \n",
        "import matplotlib.pyplot as plt"
      ],
      "execution_count": 0,
      "outputs": []
    },
    {
      "cell_type": "markdown",
      "metadata": {
        "button": false,
        "colab_type": "text",
        "id": "2MyNTXuXvhWk",
        "new_sheet": false,
        "run_control": {
          "read_only": false
        }
      },
      "source": [
        "###  Load the Cancer data \n",
        "The example is based on a dataset that is publicly available from the UCI Machine Learning Repository (Asuncion and Newman, 2007)[http://mlearn.ics.uci.edu/MLRepository.html]. The dataset consists of several hundred human cell sample records, each of which contains the values of a set of cell characteristics. The fields in each record are:\n",
        "\n",
        "|Field name|Description|\n",
        "|--- |--- |\n",
        "|ID|Clump thickness|\n",
        "|Clump|Clump thickness|\n",
        "|UnifSize|Uniformity of cell size|\n",
        "|UnifShape|Uniformity of cell shape|\n",
        "|MargAdh|Marginal adhesion|\n",
        "|SingEpiSize|Single epithelial cell size|\n",
        "|BareNuc|Bare nuclei|\n",
        "|BlandChrom|Bland chromatin|\n",
        "|NormNucl|Normal nucleoli|\n",
        "|Mit|Mitoses|\n",
        "|Class|Benign or malignant|\n",
        "\n",
        "For the purposes of this example, we're using a dataset that has a relatively small number of predictors in each record. To download the data, we will use `!wget` to download it from IBM Object Storage.  \n",
        "__Did you know?__ When it comes to Machine Learning, you will likely be working with large datasets. As a business, where can you host your data? IBM is offering a unique opportunity for businesses, with 10 Tb of IBM Cloud Object Storage: [Sign up now for free](http://cocl.us/ML0101EN-IBM-Offer-CC)"
      ]
    },
    {
      "cell_type": "code",
      "metadata": {
        "button": false,
        "colab_type": "code",
        "id": "-bjqta3TvhWm",
        "new_sheet": false,
        "run_control": {
          "read_only": false
        },
        "colab": {}
      },
      "source": [
        "#Click here and press Shift+Enter\n",
        "!wget -O cell_samples.csv https://s3-api.us-geo.objectstorage.softlayer.net/cf-courses-data/CognitiveClass/ML0101ENv3/labs/cell_samples.csv"
      ],
      "execution_count": 0,
      "outputs": []
    },
    {
      "cell_type": "markdown",
      "metadata": {
        "button": false,
        "colab_type": "text",
        "id": "WAwyeUelvhWs",
        "new_sheet": false,
        "run_control": {
          "read_only": false
        }
      },
      "source": [
        "### Load Data From CSV File  "
      ]
    },
    {
      "cell_type": "code",
      "metadata": {
        "button": false,
        "colab_type": "code",
        "id": "vUtND5V0vhWu",
        "new_sheet": false,
        "run_control": {
          "read_only": false
        },
        "colab": {}
      },
      "source": [
        "cell_df = pd.read_csv(\"cell_samples.csv\")\n",
        "cell_df.head()"
      ],
      "execution_count": 0,
      "outputs": []
    },
    {
      "cell_type": "markdown",
      "metadata": {
        "colab_type": "text",
        "id": "D_dnGAjWvhWy"
      },
      "source": [
        "The ID field contains the patient identifiers. The characteristics of the cell samples from each patient are contained in fields Clump to Mit. The values are graded from 1 to 10, with 1 being the closest to benign.\n",
        "\n",
        "The Class field contains the diagnosis, as confirmed by separate medical procedures, as to whether the samples are benign (value = 2) or malignant (value = 4).\n",
        "\n",
        "Lets look at the distribution of the classes based on Clump thickness and Uniformity of cell size:"
      ]
    },
    {
      "cell_type": "code",
      "metadata": {
        "colab_type": "code",
        "id": "HSa9du5dvhWz",
        "colab": {}
      },
      "source": [
        "ax = cell_df[cell_df['Class'] == 4][0:50].plot(kind='scatter', x='Clump', y='UnifSize', color='DarkBlue', label='malignant');\n",
        "cell_df[cell_df['Class'] == 2][0:50].plot(kind='scatter', x='Clump', y='UnifSize', color='Yellow', label='benign', ax=ax);\n",
        "plt.show()"
      ],
      "execution_count": 0,
      "outputs": []
    },
    {
      "cell_type": "markdown",
      "metadata": {
        "colab_type": "text",
        "id": "BPz81XV_vhW2"
      },
      "source": [
        "## Data pre-processing and selection"
      ]
    },
    {
      "cell_type": "markdown",
      "metadata": {
        "colab_type": "text",
        "id": "mEspSVGGvhW3"
      },
      "source": [
        "Lets first look at columns data types:"
      ]
    },
    {
      "cell_type": "code",
      "metadata": {
        "colab_type": "code",
        "id": "w9CuEFA3vhW4",
        "colab": {}
      },
      "source": [
        "cell_df.dtypes"
      ],
      "execution_count": 0,
      "outputs": []
    },
    {
      "cell_type": "markdown",
      "metadata": {
        "colab_type": "text",
        "id": "gvDwOsIJvhW7"
      },
      "source": [
        "It looks like the __BareNuc__ column includes some values that are not numerical. We can drop those rows:"
      ]
    },
    {
      "cell_type": "code",
      "metadata": {
        "colab_type": "code",
        "id": "gMGx8l-5vhW8",
        "colab": {}
      },
      "source": [
        "cell_df = cell_df[pd.to_numeric(cell_df['BareNuc'], errors='coerce').notnull()]\n",
        "cell_df['BareNuc'] = cell_df['BareNuc'].astype('int')\n",
        "cell_df.dtypes"
      ],
      "execution_count": 0,
      "outputs": []
    },
    {
      "cell_type": "code",
      "metadata": {
        "colab_type": "code",
        "id": "gdM3tKeUvhXA",
        "colab": {}
      },
      "source": [
        "feature_df = cell_df[['Clump', 'UnifSize', 'UnifShape', 'MargAdh', 'SingEpiSize', 'BareNuc', 'BlandChrom', 'NormNucl', 'Mit']]\n",
        "X = np.asarray(feature_df)\n",
        "X[0:5]"
      ],
      "execution_count": 0,
      "outputs": []
    },
    {
      "cell_type": "markdown",
      "metadata": {
        "colab_type": "text",
        "id": "WL5_Z0DXvhXE"
      },
      "source": [
        "We want the model to predict the value of Class (that is, benign (=2) or malignant (=4)). As this field can have one of only two possible values, we need to change its measurement level to reflect this."
      ]
    },
    {
      "cell_type": "code",
      "metadata": {
        "colab_type": "code",
        "id": "dlQ9ix4hvhXG",
        "colab": {}
      },
      "source": [
        "cell_df['Class'] = cell_df['Class'].astype('int')\n",
        "y = np.asarray(cell_df['Class'])\n",
        "y [0:5]"
      ],
      "execution_count": 0,
      "outputs": []
    },
    {
      "cell_type": "markdown",
      "metadata": {
        "colab_type": "text",
        "id": "loBecVEbvhXI"
      },
      "source": [
        "## Train/Test dataset"
      ]
    },
    {
      "cell_type": "markdown",
      "metadata": {
        "colab_type": "text",
        "id": "w4qDPhmrvhXJ"
      },
      "source": [
        "Okay, we split our dataset into train and test set:"
      ]
    },
    {
      "cell_type": "code",
      "metadata": {
        "colab_type": "code",
        "id": "alLydrsWvhXL",
        "colab": {}
      },
      "source": [
        "X_train, X_test, y_train, y_test = train_test_split( X, y, test_size=0.2, random_state=4)\n",
        "print ('Train set:', X_train.shape,  y_train.shape)\n",
        "print ('Test set:', X_test.shape,  y_test.shape)"
      ],
      "execution_count": 0,
      "outputs": []
    },
    {
      "cell_type": "markdown",
      "metadata": {
        "colab_type": "text",
        "id": "MoKV8IkLvhXQ"
      },
      "source": [
        "# Modeling (SVM with Scikit-learn)"
      ]
    },
    {
      "cell_type": "markdown",
      "metadata": {
        "colab_type": "text",
        "id": "G971MvtSvhXR"
      },
      "source": [
        "The SVM algorithm offers a choice of kernel functions for performing its processing. Basically, mapping data into a higher dimensional space is called kernelling. The mathematical function used for the transformation is known as the kernel function, and can be of different types, such as:\n",
        "\n",
        "    1.Linear\n",
        "    2.Polynomial\n",
        "    3.Radial basis function (RBF)\n",
        "    4.Sigmoid\n",
        "Each of these functions has its characteristics, its pros and cons, and its equation, but as there's no easy way of knowing which function performs best with any given dataset, we usually choose different functions in turn and compare the results. Let's just use the default, RBF (Radial Basis Function) for this lab."
      ]
    },
    {
      "cell_type": "code",
      "metadata": {
        "colab_type": "code",
        "id": "pq-tTmLXvhXU",
        "colab": {}
      },
      "source": [
        "from sklearn import svm\n",
        "clf = svm.SVC(kernel='rbf', gamma='auto')\n",
        "clf.fit(X_train, y_train) "
      ],
      "execution_count": 0,
      "outputs": []
    },
    {
      "cell_type": "markdown",
      "metadata": {
        "colab_type": "text",
        "id": "P__uJ9gLvhXX"
      },
      "source": [
        "After being fitted, the model can then be used to predict new values:"
      ]
    },
    {
      "cell_type": "code",
      "metadata": {
        "colab_type": "code",
        "id": "DG502-AvvhXY",
        "colab": {}
      },
      "source": [
        "yhat = clf.predict(X_test)\n",
        "yhat [0:5]"
      ],
      "execution_count": 0,
      "outputs": []
    },
    {
      "cell_type": "markdown",
      "metadata": {
        "colab_type": "text",
        "id": "VCmk8_99vhXb"
      },
      "source": [
        "## Evaluation"
      ]
    },
    {
      "cell_type": "code",
      "metadata": {
        "colab_type": "code",
        "id": "YjMjSa2LvhXc",
        "colab": {}
      },
      "source": [
        "from sklearn.metrics import classification_report, confusion_matrix\n",
        "import itertools"
      ],
      "execution_count": 0,
      "outputs": []
    },
    {
      "cell_type": "code",
      "metadata": {
        "colab_type": "code",
        "id": "uqCxDKN9vhXe",
        "colab": {}
      },
      "source": [
        "def plot_confusion_matrix(cm, classes,\n",
        "                          normalize=False,\n",
        "                          title='Confusion matrix',\n",
        "                          cmap=plt.cm.Blues):\n",
        "    \"\"\"\n",
        "    This function prints and plots the confusion matrix.\n",
        "    Normalization can be applied by setting `normalize=True`.\n",
        "    \"\"\"\n",
        "    if normalize:\n",
        "        cm = cm.astype('float') / cm.sum(axis=1)[:, np.newaxis]\n",
        "        print(\"Normalized confusion matrix\")\n",
        "    else:\n",
        "        print('Confusion matrix, without normalization')\n",
        "\n",
        "    print(cm)\n",
        "\n",
        "    plt.imshow(cm, interpolation='nearest', cmap=cmap)\n",
        "    plt.title(title)\n",
        "    plt.colorbar()\n",
        "    tick_marks = np.arange(len(classes))\n",
        "    plt.xticks(tick_marks, classes, rotation=45)\n",
        "    plt.yticks(tick_marks, classes)\n",
        "\n",
        "    fmt = '.2f' if normalize else 'd'\n",
        "    thresh = cm.max() / 2.\n",
        "    for i, j in itertools.product(range(cm.shape[0]), range(cm.shape[1])):\n",
        "        plt.text(j, i, format(cm[i, j], fmt),\n",
        "                 horizontalalignment=\"center\",\n",
        "                 color=\"white\" if cm[i, j] > thresh else \"black\")\n",
        "\n",
        "    plt.tight_layout()\n",
        "    plt.ylabel('True label')\n",
        "    plt.xlabel('Predicted label')"
      ],
      "execution_count": 0,
      "outputs": []
    },
    {
      "cell_type": "code",
      "metadata": {
        "colab_type": "code",
        "id": "_ft6mfN3vhXh",
        "colab": {}
      },
      "source": [
        "# Compute confusion matrix\n",
        "cnf_matrix = confusion_matrix(y_test, yhat, labels=[2,4])\n",
        "np.set_printoptions(precision=2)\n",
        "\n",
        "print (classification_report(y_test, yhat))\n",
        "\n",
        "# Plot non-normalized confusion matrix\n",
        "plt.figure()\n",
        "plot_confusion_matrix(cnf_matrix, classes=['Benign(2)','Malignant(4)'],normalize= False,  title='Confusion matrix')"
      ],
      "execution_count": 0,
      "outputs": []
    },
    {
      "cell_type": "markdown",
      "metadata": {
        "colab_type": "text",
        "id": "prNxLVMHvhXk"
      },
      "source": [
        "You can also easily use the __f1_score__ fron sklearn library:"
      ]
    },
    {
      "cell_type": "code",
      "metadata": {
        "colab_type": "code",
        "id": "8J2jmHNRvhXk",
        "colab": {}
      },
      "source": [
        "from sklearn.metrics import f1_score\n",
        "f1_score(y_test, yhat, average='weighted') "
      ],
      "execution_count": 0,
      "outputs": []
    },
    {
      "cell_type": "markdown",
      "metadata": {
        "colab_type": "text",
        "id": "LEyNDQHFvhXo"
      },
      "source": [
        "Lets try jaccard index for accuracy:"
      ]
    },
    {
      "cell_type": "code",
      "metadata": {
        "colab_type": "code",
        "id": "i7IIYDsxvhXp",
        "colab": {}
      },
      "source": [
        "# from sklearn.metrics import jaccard_similarity_score  # --> older sklearn\n",
        "# jaccard_similarity_score(y_test, yhat)                # --> older sklearn\n",
        "\n",
        "\n",
        "from sklearn.metrics import jaccard_score\n",
        "jaccard_score(y_test, yhat, pos_label=2)"
      ],
      "execution_count": 0,
      "outputs": []
    },
    {
      "cell_type": "markdown",
      "metadata": {
        "colab_type": "text",
        "id": "WVgzp59JvhXs"
      },
      "source": [
        "## Practice\n",
        "Can you rebuild the model, but this time with a __linear__ kernel? You can use __ kernel='linear'__ option, when you define the svm. How the accuracy changes with the new kernel function?"
      ]
    },
    {
      "cell_type": "code",
      "metadata": {
        "colab_type": "code",
        "id": "fywr6YFWvhXt",
        "colab": {}
      },
      "source": [
        "# write your code here\n",
        "\n",
        "\n"
      ],
      "execution_count": 0,
      "outputs": []
    },
    {
      "cell_type": "markdown",
      "metadata": {
        "colab_type": "text",
        "id": "tS8iNDJEvhXx"
      },
      "source": [
        "Double-click __here__ for the solution.\n",
        "\n",
        "<!-- Your answer is below:\n",
        "    \n",
        "clf2 = svm.SVC(kernel='linear')\n",
        "clf2.fit(X_train, y_train) \n",
        "yhat2 = clf2.predict(X_test)\n",
        "print(\"Avg F1-score: %.4f\" % f1_score(y_test, yhat2, average='weighted'))\n",
        "print(\"Jaccard score: %.4f\" % jaccard_similarity_score(y_test, yhat2))\n",
        "\n",
        "-->"
      ]
    },
    {
      "cell_type": "markdown",
      "metadata": {
        "button": false,
        "colab_type": "text",
        "id": "Wk3FAJc6vhXy",
        "new_sheet": false,
        "run_control": {
          "read_only": false
        }
      },
      "source": [
        "## Want to learn more?\n",
        "\n",
        "IBM SPSS Modeler is a comprehensive analytics platform that has many machine learning algorithms. It has been designed to bring predictive intelligence to decisions made by individuals, by groups, by systems – by your enterprise as a whole. A free trial is available through this course, available here: [SPSS Modeler](http://cocl.us/ML0101EN-SPSSModeler).\n",
        "\n",
        "Also, you can use Watson Studio to run these notebooks faster with bigger datasets. Watson Studio is IBM's leading cloud solution for data scientists, built by data scientists. With Jupyter notebooks, RStudio, Apache Spark and popular libraries pre-packaged in the cloud, Watson Studio enables data scientists to collaborate on their projects without having to install anything. Join the fast-growing community of Watson Studio users today with a free account at [Watson Studio](https://cocl.us/ML0101EN_DSX)\n",
        "\n",
        "### Thanks for completing this lesson!\n",
        "\n",
        "Notebook created by: <a href = \"https://ca.linkedin.com/in/saeedaghabozorgi\">Saeed Aghabozorgi</a>\n",
        "\n",
        "<hr>\n",
        "Copyright &copy; 2018 [Cognitive Class](https://cocl.us/DX0108EN_CC). This notebook and its source code are released under the terms of the [MIT License](https://bigdatauniversity.com/mit-license/).​"
      ]
    }
  ]
}